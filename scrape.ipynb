{
 "cells": [
  {
   "cell_type": "code",
   "execution_count": 11,
   "metadata": {},
   "outputs": [],
   "source": [
    "import urllib\n",
    "import requests\n",
    "import bs4\n",
    "import pandas as pd"
   ]
  },
  {
   "cell_type": "code",
   "execution_count": 16,
   "metadata": {},
   "outputs": [],
   "source": [
    "prefix='https://www.tryspree.com'\n",
    "listlink=[]\n",
    "for i in range(1,4):\n",
    "    url='https://www.tryspree.com/products?page='+str(i)\n",
    "    req=requests.get(url)\n",
    "    soup=bs4.BeautifulSoup(req.text,\"html.parser\")\n",
    "    list1=soup.findAll('a',attrs={'class':'btn btn-block btn-default view_offer'})\n",
    "    site=[(prefix+item['href']+'/try') for item in list1]\n",
    "    listlink.append(site)"
   ]
  },
  {
   "cell_type": "code",
   "execution_count": 17,
   "metadata": {},
   "outputs": [
    {
     "data": {
      "text/plain": [
       "[['https://www.tryspree.com/products/15072-free-samples-of-of-fit-flex-underwear-from-depends/try',\n",
       "  'https://www.tryspree.com/products/15371-free-partyrite-sample/try',\n",
       "  'https://www.tryspree.com/products/15372-win-a-ford-f150-sweepstakes/try',\n",
       "  'https://www.tryspree.com/products/15377-free-sample-of-plexus-pink-drink/try',\n",
       "  'https://www.tryspree.com/products/15376-free-sample-of-seal-the-seasons/try',\n",
       "  'https://www.tryspree.com/products/15381-free-numi-bottled-tea/try',\n",
       "  'https://www.tryspree.com/products/15380-free-organic-turmeric-sample/try',\n",
       "  'https://www.tryspree.com/products/15382-free-fire-authority-patch-for-clothes/try',\n",
       "  'https://www.tryspree.com/products/15379-free-blue-diamond-nut-thins-at-walmart/try',\n",
       "  'https://www.tryspree.com/products/15378-free-burrito-from-chipotle-during-nba-finals/try'],\n",
       " ['https://www.tryspree.com/products/14373-sephora-free-clay-masks-sample/try',\n",
       "  'https://www.tryspree.com/products/15370-free-makeup-samples-from-phoera/try',\n",
       "  'https://www.tryspree.com/products/15362-free-nexcare-max-hold-waterproof-bandages-from-pinchme/try',\n",
       "  'https://www.tryspree.com/products/15361-free-sample-of-smartypants-vitamins/try',\n",
       "  'https://www.tryspree.com/products/15364-free-wtrmln-wtr-from-martin-s/try',\n",
       "  'https://www.tryspree.com/products/15366-free-essential-everyday-natural-sliced-cheese/try',\n",
       "  'https://www.tryspree.com/products/15363-free-i-am-dad-mirror-cling/try',\n",
       "  'https://www.tryspree.com/products/15365-free-bible-for-recovery/try',\n",
       "  'https://www.tryspree.com/products/15369-free-subway-rides-in-nyc/try',\n",
       "  'https://www.tryspree.com/products/15368-free-game-kingdom-new-lands/try'],\n",
       " ['https://www.tryspree.com/products/14433-free-sample-of-garnier-hair-mask/try',\n",
       "  'https://www.tryspree.com/products/14168-complimentary-samples-of-skinceuticals-serum/try',\n",
       "  'https://www.tryspree.com/products/15359-free-sample-of-black-snail-all-in-one-cream/try',\n",
       "  'https://www.tryspree.com/products/15356-free-hat-to-support-women-s-rights/try',\n",
       "  'https://www.tryspree.com/products/11574-free-ufc-gym-pass/try',\n",
       "  'https://www.tryspree.com/products/15358-free-2-liter-of-root-beer/try',\n",
       "  'https://www.tryspree.com/products/15357-free-mct-creamer-sample/try',\n",
       "  'https://www.tryspree.com/products/15353-free-lorissa-s-kitchen-beef-stick-at-giant-eagle/try',\n",
       "  'https://www.tryspree.com/products/15352-free-peanut-butter-cookie/try',\n",
       "  'https://www.tryspree.com/products/15354-free-father-s-day-card-from-st-jude/try']]"
      ]
     },
     "execution_count": 17,
     "metadata": {},
     "output_type": "execute_result"
    }
   ],
   "source": [
    "listlink"
   ]
  },
  {
   "cell_type": "code",
   "execution_count": null,
   "metadata": {},
   "outputs": [],
   "source": []
  }
 ],
 "metadata": {
  "kernelspec": {
   "display_name": "Python 3",
   "language": "python",
   "name": "python3"
  },
  "language_info": {
   "codemirror_mode": {
    "name": "ipython",
    "version": 3
   },
   "file_extension": ".py",
   "mimetype": "text/x-python",
   "name": "python",
   "nbconvert_exporter": "python",
   "pygments_lexer": "ipython3",
   "version": "3.6.3"
  }
 },
 "nbformat": 4,
 "nbformat_minor": 2
}
